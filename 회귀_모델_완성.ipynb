{
  "nbformat": 4,
  "nbformat_minor": 0,
  "metadata": {
    "colab": {
      "provenance": []
    },
    "kernelspec": {
      "name": "python3",
      "display_name": "Python 3"
    },
    "language_info": {
      "name": "python"
    }
  },
  "cells": [
    {
      "cell_type": "code",
      "execution_count": null,
      "metadata": {
        "id": "nBu1D_aExsaZ"
      },
      "outputs": [],
      "source": [
        "import numpy as np\n",
        "import pandas as pd\n",
        "import matplotlib.pyplot as plt"
      ]
    },
    {
      "cell_type": "code",
      "source": [
        "df = pd.read_csv('')"
      ],
      "metadata": {
        "id": "5mWWn5wTyJ6e"
      },
      "execution_count": null,
      "outputs": []
    },
    {
      "cell_type": "code",
      "source": [
        "df.tail(10)"
      ],
      "metadata": {
        "id": "6D2nAOxPyR7N"
      },
      "execution_count": null,
      "outputs": []
    },
    {
      "cell_type": "code",
      "source": [
        "df.shape"
      ],
      "metadata": {
        "id": "d52_YtTryR94"
      },
      "execution_count": null,
      "outputs": []
    },
    {
      "cell_type": "code",
      "source": [
        "#중복되는 열 찾아 제거\n",
        "df.drop_duplicates(inplace=True, ignore_index=True)"
      ],
      "metadata": {
        "id": "qYwY9TQxySAY"
      },
      "execution_count": null,
      "outputs": []
    },
    {
      "cell_type": "code",
      "source": [
        "#date의 데이터 타입을 날짜타입으로 올바르게\n",
        "df['Date'] = pd.to_datetime(df['Date'])"
      ],
      "metadata": {
        "id": "2VRPQj_JySCw"
      },
      "execution_count": null,
      "outputs": []
    },
    {
      "cell_type": "code",
      "source": [
        "# 빈칸의 위치를 찾는 코드\n",
        "df.isna().any()\n",
        "df[df.isna().any(axis=1)].index"
      ],
      "metadata": {
        "id": "6c-RJv_vzQXG"
      },
      "execution_count": null,
      "outputs": []
    },
    {
      "cell_type": "code",
      "source": [
        "# 빈칸을 과거 4일사이의 값들의 평균계산 반올림하여 메우는(lmputing) 코드\n",
        "null = df[df.isna().any(axis=1).index].ignore_index\n",
        "null = null[0]\n",
        "df.loc[null, 'Leaflets'] = np.round(df.loc[null-4:null-1, 'Leaflets'].mean()) "
      ],
      "metadata": {
        "id": "uyspJ4ZYzQZ0"
      },
      "execution_count": null,
      "outputs": []
    },
    {
      "cell_type": "code",
      "source": [
        "#date컬럼을 이용해서 요일 만들기, dt.weekday 활용 , 진행시 integer로 encoding\n",
        "df['day'] = df['Date'].dt.weekday\n",
        "\n",
        "df['wdwe'] = np.where(df['day']>=5, 0, 1)"
      ],
      "metadata": {
        "id": "TgHcpDwnzQcv"
      },
      "execution_count": null,
      "outputs": []
    },
    {
      "cell_type": "code",
      "source": [
        "# Leaflets 컬럼 x 축 , Lemon 컬럼을 y축으로 시작하는 산점도\n",
        "plt.scatter(x='Lemon',y='Leaflets', data=df)\n",
        "plt.show()"
      ],
      "metadata": {
        "id": "RNxdLwZuzQf8"
      },
      "execution_count": null,
      "outputs": []
    },
    {
      "cell_type": "code",
      "source": [
        "# 레드에이드와 오렌지에이드의 판매량의 합계를 전단지 수로 나눈 값으로 effect_leaflets 생성\n",
        "df['effect_leaflets'] = (df['Lemon']+df['Orange']) / ade['Leaflets']"
      ],
      "metadata": {
        "id": "ZIeIL1zI1qhb"
      },
      "execution_count": null,
      "outputs": []
    },
    {
      "cell_type": "code",
      "source": [
        "# 트레인 셋 , 테스트 셋 분힐\n",
        "# y는 데이터 프레임의 Lemon과 Orange 컬럼이다\n",
        "# x는 'Leaflets', 'price', 'effect_leaflets', 'wdwe'만 사용\n",
        "# train: test  =  9:1\n",
        "#Location의 Pack과 Beach가 골고루 분배되도록 stratify하게 만든다\n",
        "# 변수명 x_train, x_test, y_train, y_test\n",
        "#random state, seed 는 2021로 설정\n",
        "\n",
        "target = 'Lemon'\n",
        "x = df[['Leaflets', 'price', 'effect_leaflets', 'wdwe']]\n",
        "y = df[target]\n",
        "\n",
        "from sklearn.model_selection import train_test_split\n",
        "\n",
        "x_train,x_test,y_train,y_test=train_test_split(x,y,test_size=0.1,random_state=2021)"
      ],
      "metadata": {
        "id": "we1ZXmuZ1qkE"
      },
      "execution_count": null,
      "outputs": []
    },
    {
      "cell_type": "code",
      "source": [
        "# 트레이닝 셋(x_train, y_train['Lemon']) 이용 학습\n",
        "from sklearn.linear_model import LinearRegression\n",
        "\n",
        "model = LinearRegression()\n",
        "model.fit(x_train, y_train)"
      ],
      "metadata": {
        "id": "9PFKMIul1qmY"
      },
      "execution_count": null,
      "outputs": []
    },
    {
      "cell_type": "code",
      "source": [
        "#LinearRegression의 성능을 mean absolute error 성능 지표를 통해 확인\n",
        "#test 데이터로 모델 예측 , 예측값 변수에는 y_pred를 사용\n",
        "#성능 지표로는 mean absolute error를 사용\n",
        "#성능 지표 출력\n",
        "\n",
        "from sklearn.metrics import mean_absolute_error\n",
        "y_pred = model.predict(x_test)\n",
        "print(mean_absolute_error(y_test, y_pred))"
      ],
      "metadata": {
        "id": "jK3MTQVp1qoS"
      },
      "execution_count": null,
      "outputs": []
    },
    {
      "cell_type": "code",
      "source": [
        "# 예측 데이터와 실제 데이터를 산점도를 통해서 정확성에 시각화\n",
        "# scatter plot 이용\n",
        "# 예측값 (y_pred)와 실제값(y_test)의 lemon항목에 대해 산점도를 그린다\n",
        "# x, y축에 라벨을 붙여준다\n",
        "\n",
        "plt.figure(figsize=(6,6))\n",
        "plt.scatter(x=y_test,y=y_pred,alpha=0.6)\n",
        "plt.show()"
      ],
      "metadata": {
        "id": "1abefn2c1qr1"
      },
      "execution_count": null,
      "outputs": []
    },
    {
      "cell_type": "code",
      "source": [
        "import tensorflow as tf\n",
        "from tensorflow import keras\n",
        "from tensorflow.keras.models import Sequential, Model\n",
        "from tensorflow.keras.layers import Dense, BatchNormalization, Input  \n",
        "from tensorflow.keras.callbacks import EarlyStopping"
      ],
      "metadata": {
        "id": "ipyxMNXe6dCM"
      },
      "execution_count": null,
      "outputs": []
    },
    {
      "cell_type": "code",
      "source": [
        "# BatchNormalization 사용, output layer는 Lemon 에이드 판매량 예측\n",
        "# output layer의 예측값이 0미만의 값이 나올 수 없도록 activation을 지정한다\n",
        "# EarlyStopping을 이용하여 100이상 개선되지 않으면 학습 중단, 가장 성능치가 좋을때 가중치 복구\n",
        "# 힉습 과정의 로그를 history에 선언하여 남긴다. loss function은 mse 사용\n",
        "# 에폭 200"
      ],
      "metadata": {
        "id": "hbUAe9DV7T1I"
      },
      "execution_count": null,
      "outputs": []
    },
    {
      "cell_type": "code",
      "source": [
        "x_train.shape"
      ],
      "metadata": {
        "id": "STkqruEr6dE7"
      },
      "execution_count": null,
      "outputs": []
    },
    {
      "cell_type": "code",
      "source": [
        "karse.backend.clear_session()\n",
        "\n",
        "model = Sequential([           \n",
        "\tInput(shape=(5,)),\n",
        "\tDense(16, activation='relu'),\n",
        "\tBatchNormalization(),\n",
        "\tDense(8, activation='relu'),\n",
        "\tBatchNormalization(),\n",
        "\tDense(1)\n",
        "])\n",
        "\n",
        "model.compile(loss='mse', optimizer='adam')\n",
        "es = EarlyStopping(monitor='val_loss', restore_best_weights=True, min_delte=0, patience=100)\n",
        "\n",
        "model.summary()"
      ],
      "metadata": {
        "id": "gQow7AOp8M77"
      },
      "execution_count": null,
      "outputs": []
    },
    {
      "cell_type": "code",
      "source": [
        "hist = model.fit(x_train, y_train, epochs=200, callbacks=[es], validation_data=(x_valid, y_valid))"
      ],
      "metadata": {
        "id": "zMKJQc4g9eur"
      },
      "execution_count": null,
      "outputs": []
    },
    {
      "cell_type": "code",
      "source": [
        "plt.title('Loss')\n",
        "plt.plot(hist.history['loss'], label='loss')\n",
        "plt.plot(hist.history['val_loss'], label='val_loss')\n",
        "plt.legend() #범례\n",
        "plt.xlabel('Epochs')\n",
        "plt.ylabel('MSE')\n",
        "plt.show()"
      ],
      "metadata": {
        "id": "H5jZaqoy-A3R"
      },
      "execution_count": null,
      "outputs": []
    },
    {
      "cell_type": "code",
      "source": [
        "# test데이터를 활용하여 test 셋 데이터에 대해 mse 값을 출력\n",
        "from sklearn.metrics import mean_absolute_error\n",
        "y_pred = model.predict(x_test)\n",
        "mean_absolute_error(y_test, y_pred)"
      ],
      "metadata": {
        "id": "zEMy1OZU-KNj"
      },
      "execution_count": null,
      "outputs": []
    }
  ]
}