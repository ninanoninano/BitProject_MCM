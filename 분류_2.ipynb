{
  "nbformat": 4,
  "nbformat_minor": 0,
  "metadata": {
    "colab": {
      "provenance": []
    },
    "kernelspec": {
      "name": "python3",
      "display_name": "Python 3"
    },
    "language_info": {
      "name": "python"
    }
  },
  "cells": [
    {
      "cell_type": "code",
      "execution_count": null,
      "metadata": {
        "id": "PEA60ivaXR9K"
      },
      "outputs": [],
      "source": [
        "# '_'의 값이 40% 이상 차지하는 컬럼을 삭제하고 df1 변수에 대입\n",
        "for c in df:\n",
        "  print(df[c].value_counts())"
      ]
    },
    {
      "cell_type": "code",
      "source": [
        "result = []\n",
        "for c in df:\n",
        "  try:\n",
        "    if df[c].value_counts(normalize=True).to_dict()['_']>=0.4\n",
        "        result.append()\n",
        "  except:\n",
        "    pass"
      ],
      "metadata": {
        "id": "L3SVAF-GX2m6"
      },
      "execution_count": null,
      "outputs": []
    },
    {
      "cell_type": "code",
      "source": [
        "df1 = df.drop(result, axis=1)\n",
        "df1"
      ],
      "metadata": {
        "id": "gJFAN_wsYPqZ"
      },
      "execution_count": null,
      "outputs": []
    },
    {
      "cell_type": "code",
      "source": [
        "#남아있는 '_' 값은 null로 변경\n",
        "df1 = df1.replace('_', np.nan)"
      ],
      "metadata": {
        "id": "rAp49xvUYXK5"
      },
      "execution_count": null,
      "outputs": []
    },
    {
      "cell_type": "code",
      "source": [
        "df1.isna().sum"
      ],
      "metadata": {
        "id": "P5OvGWW5YXNl"
      },
      "execution_count": null,
      "outputs": []
    },
    {
      "cell_type": "code",
      "source": [
        "# 최빈값으로 변경\n",
        "df['HOUSE'].fillna(df['HOUSE'].mode()[0], inplace=True)\n",
        "\n",
        "#중앙값으로 변경 후 정수로 변경\n",
        "df['HOUSE'].fillna(df['HOUSE'].median(), inplace=True)\n",
        "df['HOUSE'] = df['HOUSE'].astype(int)\n",
        "\n",
        "#최빈값으로 변경\n",
        "df['HOUSE'].fillna(df['HOUSE'].mode()[0], inplace=True)\n",
        "\n",
        "#최빈값으로 변경\n",
        "df['HOUSE'].fillna(df['HOUSE'].mode()[0], inplace=True)\n",
        "\n",
        "#해당 컬럼의 경우 'N'값이 99%이상 차지하므로 삭제\n",
        "df['HOUSE'].value_counts()\n",
        "df.drop('컬럼', axis=1, inplace=True)"
      ],
      "metadata": {
        "id": "VZ47eLleYXP-"
      },
      "execution_count": null,
      "outputs": []
    },
    {
      "cell_type": "code",
      "source": [
        "#인코더\n",
        "cols = df.select_dtypes(include = 'object')\n",
        "\n",
        "from sklearn.preprocessing import LabelEncoder\n",
        "\n",
        "le = LabelEncoder()\n",
        "cols['REPORTED_USAGE_LEVEL'] = le.fit_transform(df['REPORTED_USAGE_LEVEL'])\n",
        "\n",
        "le.classes_\n",
        "\n",
        "cols[['REPORTED_USAGE_LEVEL']].head()\n",
        "\n",
        "pd.get_dummies(cols['REPORTED_USAGE_LEVEL']).head()"
      ],
      "metadata": {
        "id": "rLxsZokbYXTK"
      },
      "execution_count": null,
      "outputs": []
    },
    {
      "cell_type": "code",
      "source": [
        "# 겟 더미즈\n",
        "df = pd.get_dummies(data=df, columns=cols, drop_first=True)\n",
        "df.info"
      ],
      "metadata": {
        "id": "1V1pkpbBcPFZ"
      },
      "execution_count": null,
      "outputs": []
    },
    {
      "cell_type": "code",
      "source": [
        "#셋 분할 \n",
        "#정규화 "
      ],
      "metadata": {
        "id": "5OIEiRlzcXZF"
      },
      "execution_count": null,
      "outputs": []
    },
    {
      "cell_type": "code",
      "source": [
        "#로지스틱 회귀, 분류\n",
        "from sklearn.linear_model import LogisticRegression #로지스틱 회귀\n",
        "from sklearn.metrics import confusion_matrix\n",
        "from sklearn.metrics import accuracy_score, precision_score, recall_score, f1_score\n",
        "from sklearn.metrics import classification_report\n",
        "\n",
        "%%time\n",
        "model = LogisticRegression(c=1.0, max_iter=2000)\n",
        "model.fit(X_train, y_train)\n",
        "model.score(X_test, y_test)\n",
        "\n",
        "pred = model.predict(x_test)\n",
        "\n",
        "print(classification_report(y_test, pred))"
      ],
      "metadata": {
        "id": "ig2410j_o1xH"
      },
      "execution_count": null,
      "outputs": []
    },
    {
      "cell_type": "code",
      "source": [
        "#딥러닝 심층신경망 모델 구현\n",
        "from tensorflow.keras.backend import clear_session\n",
        "from tensorflow.keras.models import Sequential, load_model   #레이어(계층)\n",
        "from tensorflow.keras.layers import Dense, Dropout, Input     #레이어 관련 함수\n",
        "from tensorflow.keras.callbacks import EarlyStopping, ModelCheckpoint   \n",
        "#콜백 관련 함수\n",
        "from tensorflow.keras.utils import to_categorical"
      ],
      "metadata": {
        "id": "LjK9OsdOpcMI"
      },
      "execution_count": null,
      "outputs": []
    },
    {
      "cell_type": "code",
      "source": [
        "clear_session()\n",
        "\n",
        "model = Sequential([           \n",
        "\tInput(shape=(18,)),\n",
        "\tDense(64, activation='relu'),\n",
        "\tDropout(0.2),\n",
        "\tDense(32, activation='relu'),\n",
        "\tDropout(0.2),\n",
        "\tDense(16, activation='relu'),\n",
        "\tDropout(0.2),\n",
        "\tDense(1, activation='sigmoid')\n",
        "])\n",
        "\n",
        "model.compile(optimizer='adam', loss='binary_crossentropy', metrics=['acc'])\n",
        "model.summary()"
      ],
      "metadata": {
        "id": "0ycKjBFEpcPd"
      },
      "execution_count": null,
      "outputs": []
    },
    {
      "cell_type": "code",
      "source": [
        "from keras.callbacks import EarlyStopping, ModelCheckpoint\n",
        "\n",
        "es = EarlyStopping(monitor='val_accuracy', #회귀:val_loss 분류:val_accuracy\n",
        "                   mode='max', # acc면 max, loss면 min \n",
        "                   verbose=1, \n",
        "                   patience=4, # 몇번 참을건지'\n",
        "                   restore_best_weights=True, #최적의 학습 가중치를 모델에 전달\n",
        "                   min_delta=0 # 최소한 변화량\n",
        "                   )\n",
        "mc = ModelCheckpoint('best_model.h5', \n",
        "                     monitor='val_accuracy',\n",
        "                     verbose=1, \n",
        "                     save_best_only=True,\n",
        "                      mode='max)\n",
        "\n",
        "hist = model.fit(X_train, y_train, batch_size=16, epochs=100, callbacks=[es, mc], validation_split=0.2)"
      ],
      "metadata": {
        "id": "zK9p0GSGp1K3"
      },
      "execution_count": null,
      "outputs": []
    },
    {
      "cell_type": "code",
      "source": [
        "import matplotlib.pyplot as plt\n",
        "\n",
        "plt.title('test')\n",
        "plt.plot(hist.history['acc'], label='acc') # 출력 그래프 데이터\n",
        "plt.plot(hist.history['val_acc'], label='val_acc')\n",
        "plt.plot(hist.history['loss'], label='loss')\n",
        "plt.plot(hist.history['val_loss'], label='val_loss')\n",
        "plt.legend() #범례\n",
        "plt.xlabel('Epochs')\n",
        "plt.ylabel('Acc')\n",
        "plt.show()"
      ],
      "metadata": {
        "id": "lu774NNQrJD0"
      },
      "execution_count": null,
      "outputs": []
    },
    {
      "cell_type": "code",
      "source": [
        "#예측\n",
        "\n",
        "y_pred = model.predict(x_test)\n",
        "y_pred = np.argmax(y_pred, axis=1)\n",
        "print(classification_report(y_test, y_pred))"
      ],
      "metadata": {
        "id": "4C05IqrXrNU5"
      },
      "execution_count": null,
      "outputs": []
    }
  ]
}